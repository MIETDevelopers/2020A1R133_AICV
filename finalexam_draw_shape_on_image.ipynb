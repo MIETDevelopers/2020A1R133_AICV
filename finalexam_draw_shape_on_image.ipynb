{
 "cells": [
  {
   "cell_type": "code",
   "execution_count": 1,
   "id": "6d3e732a",
   "metadata": {},
   "outputs": [
    {
     "name": "stdout",
     "output_type": "stream",
     "text": [
      "Defaulting to user installation because normal site-packages is not writeable\n",
      "Requirement already satisfied: opencv-python in c:\\users\\student\\appdata\\roaming\\python\\python39\\site-packages (4.7.0.72)\n",
      "Requirement already satisfied: numpy>=1.17.3 in c:\\programdata\\anaconda3\\lib\\site-packages (from opencv-python) (1.21.5)\n",
      "Note: you may need to restart the kernel to use updated packages.\n"
     ]
    }
   ],
   "source": [
    "pip install opencv-python"
   ]
  },
  {
   "cell_type": "code",
   "execution_count": 3,
   "id": "544673b4",
   "metadata": {},
   "outputs": [],
   "source": [
    "import cv2\n",
    "import numpy as np"
   ]
  },
  {
   "cell_type": "code",
   "execution_count": 4,
   "id": "2375fbff",
   "metadata": {},
   "outputs": [],
   "source": [
    "# Creating a black image with 3 channels\n",
    "# RGB and unsigned int datatype\n",
    "img = np.zeros((400, 400, 3), dtype = \"uint8\")\n",
    "cv2.imshow('dark', img)\n",
    "  \n",
    "# Allows us to see image\n",
    "# until closed forcefully\n",
    "cv2.waitKey(0)\n",
    "cv2.destroyAllWindows()"
   ]
  },
  {
   "cell_type": "code",
   "execution_count": 5,
   "id": "cb8bc808",
   "metadata": {},
   "outputs": [],
   "source": [
    "# program to draw line\n",
    "\n",
    "import numpy as np\n",
    "import cv2\n",
    "  \n",
    "# Creating a black image with 3 channels\n",
    "# RGB and unsigned int datatype\n",
    "img = np.zeros((400, 400, 3), dtype = \"uint8\")\n",
    "  \n",
    "# Creating line\n",
    "cv2.line(img, (20, 160), (100, 160), (0, 0, 255), 10)\n",
    "  \n",
    "cv2.imshow('dark', img)\n",
    "  \n",
    "# Allows us to see image\n",
    "# until closed forcefully\n",
    "cv2.waitKey(0)\n",
    "cv2.destroyAllWindows()"
   ]
  },
  {
   "cell_type": "code",
   "execution_count": 6,
   "id": "93bb3501",
   "metadata": {},
   "outputs": [],
   "source": [
    "# program to draw rectangle\n",
    "\n",
    "import numpy as np\n",
    "import cv2\n",
    "  \n",
    "# Creating a black image with 3\n",
    "# channels RGB and unsigned int datatype\n",
    "img = np.zeros((400, 400, 3), dtype = \"uint8\")\n",
    "  \n",
    "# Creating rectangle\n",
    "cv2.rectangle(img, (30, 30), (300, 200), (0, 255, 0), 5)\n",
    "  \n",
    "cv2.imshow('dark', img)\n",
    "  \n",
    "# Allows us to see image\n",
    "# until closed forcefully\n",
    "cv2.waitKey(0)\n",
    "cv2.destroyAllWindows()"
   ]
  },
  {
   "cell_type": "code",
   "execution_count": 7,
   "id": "d824d420",
   "metadata": {},
   "outputs": [],
   "source": [
    "#program to draw circle\n",
    "\n",
    "import numpy as np\n",
    "import cv2\n",
    "  \n",
    "# Creating a black image with 3\n",
    "# channels RGB and unsigned int datatype\n",
    "img = np.zeros((400, 400, 3), dtype = \"uint8\")\n",
    "  \n",
    "# Creating circle\n",
    "cv2.circle(img, (200, 200), 80, (255, 0, 0), 3)\n",
    "  \n",
    "cv2.imshow('dark', img)\n",
    "  \n",
    "# Allows us to see image\n",
    "# until closed forcefully\n",
    "cv2.waitKey(0)\n",
    "cv2.destroyAllWindows()"
   ]
  },
  {
   "cell_type": "code",
   "execution_count": null,
   "id": "13508b9f",
   "metadata": {},
   "outputs": [],
   "source": []
  }
 ],
 "metadata": {
  "kernelspec": {
   "display_name": "Python 3 (ipykernel)",
   "language": "python",
   "name": "python3"
  },
  "language_info": {
   "codemirror_mode": {
    "name": "ipython",
    "version": 3
   },
   "file_extension": ".py",
   "mimetype": "text/x-python",
   "name": "python",
   "nbconvert_exporter": "python",
   "pygments_lexer": "ipython3",
   "version": "3.9.12"
  }
 },
 "nbformat": 4,
 "nbformat_minor": 5
}
